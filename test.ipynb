{
 "cells": [
  {
   "metadata": {
    "ExecuteTime": {
     "end_time": "2025-04-28T01:46:48.048167Z",
     "start_time": "2025-04-28T01:46:48.038357Z"
    }
   },
   "cell_type": "code",
   "source": [
    "from function import IPList\n",
    "\n",
    "iplist = IPList()"
   ],
   "id": "33ba35840399563c",
   "outputs": [
    {
     "name": "stdout",
     "output_type": "stream",
     "text": [
      "读取 [record.json] 文件完成...\n"
     ]
    }
   ],
   "execution_count": 1
  },
  {
   "metadata": {
    "ExecuteTime": {
     "end_time": "2025-04-28T01:47:02.764513Z",
     "start_time": "2025-04-28T01:47:02.760899Z"
    }
   },
   "cell_type": "code",
   "source": "print(iplist.ip_dict)",
   "id": "30675105311013df",
   "outputs": [
    {
     "name": "stdout",
     "output_type": "stream",
     "text": [
      "{'192.16.1.2': {'IPv4Address': '192.16.1.2', 'SubnetMask': '255.255.255.0', 'IPv4DefaultGateway': '192.16.1.1', 'DNSServer': ['172.16.220.1', '223.5.5.5']}, '192.16.1.3': {'IPv4Address': '192.16.1.3', 'SubnetMask': '255.255.255.0', 'IPv4DefaultGateway': '192.16.1.1', 'DNSServer': ['172.16.220.1', '223.5.5.5']}}\n"
     ]
    }
   ],
   "execution_count": 6
  },
  {
   "metadata": {},
   "cell_type": "code",
   "source": "iplist.load_ip()",
   "id": "8f173a4b98ddd0c3",
   "outputs": [],
   "execution_count": null
  },
  {
   "metadata": {
    "ExecuteTime": {
     "end_time": "2025-04-28T01:46:58.222612Z",
     "start_time": "2025-04-28T01:46:58.216961Z"
    }
   },
   "cell_type": "code",
   "source": [
    "ip = '192.16.1.3'\n",
    "mask = '255.255.255.0'\n",
    "ga = '192.16.1.1'\n",
    "dns = ['172.16.220.1', '223.5.5.5']\n",
    "iplist.add_ip(ip,mask,ga,dns)"
   ],
   "id": "68fd4e92bfdc23c0",
   "outputs": [],
   "execution_count": 4
  },
  {
   "metadata": {
    "ExecuteTime": {
     "end_time": "2025-04-28T01:47:00.954745Z",
     "start_time": "2025-04-28T01:47:00.948060Z"
    }
   },
   "cell_type": "code",
   "source": "iplist.save_ip()",
   "id": "646a934f7fdb0e5d",
   "outputs": [
    {
     "name": "stdout",
     "output_type": "stream",
     "text": [
      "保存 [record.json] 文件完成...\n"
     ]
    }
   ],
   "execution_count": 5
  },
  {
   "metadata": {},
   "cell_type": "code",
   "source": "iplist.view_ip('192.16.1.2')",
   "id": "24bed94e7e7f9508",
   "outputs": [],
   "execution_count": null
  },
  {
   "metadata": {},
   "cell_type": "code",
   "source": "iplist.del_ip('192.16.1.2')",
   "id": "46d299a1a95b61c1",
   "outputs": [],
   "execution_count": null
  },
  {
   "metadata": {},
   "cell_type": "code",
   "source": "",
   "id": "eacfa420c8d5d265",
   "outputs": [],
   "execution_count": null
  }
 ],
 "metadata": {
  "kernelspec": {
   "display_name": "Python 3",
   "language": "python",
   "name": "python3"
  },
  "language_info": {
   "codemirror_mode": {
    "name": "ipython",
    "version": 2
   },
   "file_extension": ".py",
   "mimetype": "text/x-python",
   "name": "python",
   "nbconvert_exporter": "python",
   "pygments_lexer": "ipython2",
   "version": "2.7.6"
  }
 },
 "nbformat": 4,
 "nbformat_minor": 5
}
