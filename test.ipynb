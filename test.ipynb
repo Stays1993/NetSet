{
 "cells": [
  {
   "metadata": {
    "ExecuteTime": {
     "end_time": "2025-04-28T04:17:30.383426Z",
     "start_time": "2025-04-28T04:17:27.749047Z"
    }
   },
   "cell_type": "code",
   "source": [
    "from function import NetManage\n",
    "\n",
    "net = NetManage()\n",
    "\n",
    "name = \"WLAN\"\n",
    "print(net.clear_ip_cfg(name))"
   ],
   "id": "5f0c19ef47227452",
   "outputs": [
    {
     "name": "stdout",
     "output_type": "stream",
     "text": [
      "[WLAN] 清除IP配置成功！\n"
     ]
    }
   ],
   "execution_count": 1
  },
  {
   "metadata": {},
   "cell_type": "code",
   "source": "",
   "id": "5169b5529ab17251",
   "outputs": [],
   "execution_count": null
  },
  {
   "metadata": {},
   "cell_type": "code",
   "source": "",
   "id": "4af509e7127738e3",
   "outputs": [],
   "execution_count": null
  }
 ],
 "metadata": {
  "kernelspec": {
   "display_name": "Python 3",
   "language": "python",
   "name": "python3"
  },
  "language_info": {
   "codemirror_mode": {
    "name": "ipython",
    "version": 2
   },
   "file_extension": ".py",
   "mimetype": "text/x-python",
   "name": "python",
   "nbconvert_exporter": "python",
   "pygments_lexer": "ipython2",
   "version": "2.7.6"
  }
 },
 "nbformat": 4,
 "nbformat_minor": 5
}
